{
  "nbformat": 4,
  "nbformat_minor": 0,
  "metadata": {
    "colab": {
      "name": "image_augmentation.ipynb",
      "provenance": [],
      "private_outputs": true,
      "collapsed_sections": [
        "Tce3stUlHN0L"
      ],
      "toc_visible": true
    },
    "kernelspec": {
      "display_name": "Python 3",
      "name": "python3"
    }
  },
  "cells": [
    {
      "cell_type": "markdown",
      "metadata": {
        "colab_type": "text",
        "id": "Tce3stUlHN0L"
      },
      "source": [
        "##### Copyright 2019 The TensorFlow Authors."
      ]
    },
    {
      "cell_type": "code",
      "metadata": {
        "cellView": "form",
        "colab_type": "code",
        "id": "tuOe1ymfHZPu",
        "colab": {}
      },
      "source": [
        "#@title Licensed under the Apache License, Version 2.0 (the \"License\");\n",
        "# you may not use this file except in compliance with the License.\n",
        "# You may obtain a copy of the License at\n",
        "#\n",
        "# https://www.apache.org/licenses/LICENSE-2.0\n",
        "#\n",
        "# Unless required by applicable law or agreed to in writing, software\n",
        "# distributed under the License is distributed on an \"AS IS\" BASIS,\n",
        "# WITHOUT WARRANTIES OR CONDITIONS OF ANY KIND, either express or implied.\n",
        "# See the License for the specific language governing permissions and\n",
        "# limitations under the License."
      ],
      "execution_count": 0,
      "outputs": []
    },
    {
      "cell_type": "markdown",
      "metadata": {
        "colab_type": "text",
        "id": "qFdPvlXBOdUN"
      },
      "source": [
        "# TensorFlow Image Augmentation Tutorial"
      ]
    },
    {
      "cell_type": "markdown",
      "metadata": {
        "colab_type": "text",
        "id": "MfBg1C5NB3X0"
      },
      "source": [
        "<table class=\"tfo-notebook-buttons\" align=\"left\">\n",
        "  <td>\n",
        "    <a target=\"_blank\" href=\"https://www.tensorflow.org/image_augmentation\"><img src=\"https://www.tensorflow.org/images/tf_logo_32px.png\" />View on TensorFlow.org</a>\n",
        "  </td>\n",
        "  <td>\n",
        "    <a target=\"_blank\" href=\"https://colab.research.google.com/github/tensorflow/docs/blob/master/site/en/tutorials/images/image_augmentation.ipynb\"><img src=\"https://www.tensorflow.org/images/colab_logo_32px.png\" />Run in Google Colab</a>\n",
        "  </td>\n",
        "  <td>\n",
        "    <a target=\"_blank\" href=\"https://github.com/tensorflow/docs/blob/master/site/en/tutorials/images/image_augmentation.ipynb\"><img src=\"https://www.tensorflow.org/images/GitHub-Mark-32px.png\" />View source on GitHub</a>\n",
        "  </td>\n",
        "  <td>\n",
        "    <a href=\"https://storage.googleapis.com/tensorflow_docs/docs/site/en/tutorials/images/image_augmentation.ipynb\"><img src=\"https://www.tensorflow.org/images/download_logo_32px.png\" />Download notebook</a>\n",
        "  </td>\n",
        "</table>"
      ]
    },
    {
      "cell_type": "markdown",
      "metadata": {
        "colab_type": "text",
        "id": "xHxb-dlhMIzW"
      },
      "source": [
        "## Overview\n",
        "\n",
        "This tutorial explains how to augment images using [tf.image](https://www.tensorflow.org/api_docs/python/tf/image), and training a [keras model](https://www.tensorflow.org/guide/keras/overview) using the augmented data."
      ]
    },
    {
      "cell_type": "markdown",
      "metadata": {
        "colab_type": "text",
        "id": "MUXex9ctTuDB"
      },
      "source": [
        "## Setup"
      ]
    },
    {
      "cell_type": "markdown",
      "metadata": {
        "colab_type": "text",
        "id": "1Eh-iCRVBm0p"
      },
      "source": [
        "First, you will import `tensorflow`, along with `tensorflow_datasets`. You will use images from a tensorflow dataset for augmentation.\n",
        "\n",
        "Next, import `keras` from `tensorflow`. This will be used for training a model with the augmented images.\n",
        "\n",
        "Finally, import `pyplot` from `matplotlib` to show our unaugmented and augmented images."
      ]
    },
    {
      "cell_type": "code",
      "metadata": {
        "colab_type": "code",
        "id": "IqR2PQG4ZaZ0",
        "colab": {}
      },
      "source": [
        "from tensorflow import keras\n",
        "from matplotlib import pyplot\n",
        "import tensorflow_datasets as tfds\n",
        "import tensorflow as tf\n",
        "import random"
      ],
      "execution_count": 0,
      "outputs": []
    },
    {
      "cell_type": "markdown",
      "metadata": {
        "id": "zjFlMkq1YxK1",
        "colab_type": "text"
      },
      "source": [
        "### Load in the fashion dataset, and pre process the images. Then, show 9 unaugmented images.\n",
        "\n",
        "You will first load in a dataset (in this case the fashion dataset). You will then pre-process the images a little bit, then show 9 of the unaugmented images."
      ]
    },
    {
      "cell_type": "code",
      "metadata": {
        "id": "0rjlHBzqY4Cz",
        "colab_type": "code",
        "colab": {}
      },
      "source": [
        "# Load in dataset\n",
        "dataset = keras.datasets.fashion_mnist\n",
        "(training_images, training_labels), (testing_images, testing_labels) = dataset.load_data()\n",
        "\n",
        "unaltered_images = training_images\n",
        "\n",
        "# Pre-process the images\n",
        "training_images = training_images / 255.0\n",
        "unaltered_images = unaltered_images / 255.0\n",
        "testing_images = testing_images / 255.0\n",
        "\n",
        "class_names = ['T-shirt/top', 'Trouser', 'Pullover', 'Dress', 'Coat', 'Sandal', 'Shirt', 'Sneaker', 'Bag', 'Ankle boot']\n",
        "for i in range(0, 9):\n",
        "\tpyplot.subplot(330 + 1 + i)\n",
        "\tpyplot.tight_layout()\n",
        "\tpyplot.xlabel(class_names[training_labels[i]])\n",
        "\tpyplot.imshow(training_images[i], cmap=pyplot.get_cmap('gray'))"
      ],
      "execution_count": 0,
      "outputs": []
    },
    {
      "cell_type": "markdown",
      "metadata": {
        "id": "rGvev9UWY53D",
        "colab_type": "text"
      },
      "source": [
        "### Augment the images\n",
        "Now you will augment the images, and show 9 of the augmented images.\n",
        "\n",
        "\n",
        "---\n",
        "\n",
        "\n",
        "\n",
        "#### Importance of augmentation\n",
        "Augmentation is very important, because it can help improve the generalizability of our model. It also helps reduce over fitting our data. By artificially augmenting images, you are exposing our model to more data, which helps it detect much more than it would if the data was not augmented."
      ]
    },
    {
      "cell_type": "code",
      "metadata": {
        "id": "_XTdizmhZDBY",
        "colab_type": "code",
        "colab": {}
      },
      "source": [
        "# Prepare images for augmentation\n",
        "training_images = training_images.reshape((training_images.shape[0], 28, 28, 1))\n",
        "training_images = training_images.astype('float32')\n",
        "\n",
        "# Prepare images for augmentation\n",
        "unaltered_images = unaltered_images.reshape((unaltered_images.shape[0], 28, 28, 1))\n",
        "unaltered_images = unaltered_images.astype('float32')\n",
        "\n",
        "# Prepare images for testing model\n",
        "testing_images = testing_images.reshape((testing_images.shape[0], 28, 28, 1))\n",
        "testing_images = testing_images.astype('float32')\n",
        "\n",
        "\n",
        "# Augment the images with tf.image\n",
        "def augment_image(x: tf.Tensor) -> tf.Tensor:\n",
        "  # Changes the brightness to a random value between 0.1 and 0.9\n",
        "  new_x = tf.image.adjust_brightness(x, random.uniform(0.1, 0.9))\n",
        "\n",
        "  # Changes the contrast to a random value between 0.1 and o.9\n",
        "  new_x = tf.image.adjust_contrast(images=new_x, contrast_factor=random.uniform(0.1, 0.9))\n",
        "\n",
        "  # Rotate the image 0, 90, 180, 270, or 360 degrees, chosen randomly\n",
        "  new_x = tf.image.rot90(new_x, k=random.randrange(0, 4))\n",
        "\n",
        "  # Return the augmented image\n",
        "  return new_x\n",
        "\n",
        "# Loop through and augment the training images\n",
        "for index, image in enumerate(training_images):\n",
        "\t\ttraining_images[index] = augment_image(image)\n",
        "\n",
        "class_names = ['T-shirt/top', 'Trouser', 'Pullover', 'Dress', 'Coat', 'Sandal', 'Shirt', 'Sneaker', 'Bag', 'Ankle boot']\n",
        "# Create a grid of 9 images\n",
        "for i in range(0, 9):\n",
        "\tpyplot.subplot(330 + 1 + i)\n",
        "\tpyplot.tight_layout()\n",
        "\tpyplot.xlabel(class_names[training_labels[i]])\n",
        "\tpyplot.imshow(training_images[i].reshape(28, 28), cmap=pyplot.get_cmap('gray'))\n",
        "# Show the images\n",
        "pyplot.show()"
      ],
      "execution_count": 0,
      "outputs": []
    },
    {
      "cell_type": "markdown",
      "metadata": {
        "id": "xEoLIiUBZGgR",
        "colab_type": "text"
      },
      "source": [
        "### Build and train a keras model\n",
        "Now, train a keras model with the augmented images. First, create and compile the model, then train it with your augmented images."
      ]
    },
    {
      "cell_type": "code",
      "metadata": {
        "id": "ZZumpK0zZH8u",
        "colab_type": "code",
        "colab": {}
      },
      "source": [
        "def retrieve_model():\n",
        "  # Prepare the layers for training with keras\n",
        "  model = keras.Sequential([\n",
        "      keras.layers.Conv2D(28, (3, 3), activation='relu', input_shape=(28, 28, 1)),\n",
        "      keras.layers.MaxPooling2D((2, 2)),\n",
        "      keras.layers.Conv2D(56, (3, 3), activation='relu'),\n",
        "      keras.layers.MaxPooling2D((2, 2)),\n",
        "      keras.layers.Conv2D(56, (3, 3), activation='relu'),\n",
        "\n",
        "      keras.layers.Flatten(),\n",
        "      keras.layers.Dense(128, activation='relu'),\n",
        "      keras.layers.Dense(10, activation='softmax')\n",
        "  ])\n",
        "\n",
        "  return model\n",
        "\n",
        "model = retrieve_model()\n",
        "# Compile the model for training with keras\n",
        "model.compile(optimizer='adam',\n",
        "    loss='sparse_categorical_crossentropy',\n",
        "    metrics=['accuracy']\n",
        ")\n",
        "\n",
        "unaugmented_model = retrieve_model()\n",
        "# Compile the model for training with keras\n",
        "unaugmented_model.compile(optimizer='adam',\n",
        "    loss='sparse_categorical_crossentropy',\n",
        "    metrics=['accuracy']\n",
        ")\n",
        "\n",
        "# Train the model with keras\n",
        "model.fit(training_images, training_labels, epochs=5, validation_data=(testing_images, testing_labels))\n",
        "\n",
        "# Train the model with unaugmented images\n",
        "unaugmented_model.fit(unaltered_images, training_labels, epochs=5, validation_data=(testing_images, testing_labels))"
      ],
      "execution_count": 0,
      "outputs": []
    },
    {
      "cell_type": "markdown",
      "metadata": {
        "id": "zw8SAdKTJ6MD",
        "colab_type": "text"
      },
      "source": [
        "### Evaluate the augmented and unaugmented models"
      ]
    },
    {
      "cell_type": "code",
      "metadata": {
        "id": "eB92_BvqJ9mh",
        "colab_type": "code",
        "colab": {}
      },
      "source": [
        "# Evaluate the model on unaugmented images\n",
        "\n",
        "# Prepare images for evaluation\n",
        "testing_images = testing_images.reshape((testing_images.shape[0], 28, 28, 1))\n",
        "testing_images = testing_images.astype('float32')\n",
        "\n",
        "result = model.evaluate(testing_images, testing_labels, batch_size=128)\n",
        "print('(AUGMENTED) Test loss, accuracy: ' + str(result))\n",
        "\n",
        "unaugmented_result = unaugmented_model.evaluate(testing_images, testing_labels, batch_size=128)\n",
        "print('(UNAUGMENTED) Test loss, accuracy: ' + str(unaugmented_result))"
      ],
      "execution_count": 0,
      "outputs": []
    },
    {
      "cell_type": "markdown",
      "metadata": {
        "id": "aE580NvEKeF7",
        "colab_type": "text"
      },
      "source": [
        "### Results\n",
        "The results, contrary to what you may expect, show that the unaugmented images produced a slightly better result.\n",
        "\n",
        "In this tutorial, you augmented the images quite a bit (i.e. the brightness and contrast were set between very low and very high ranges). In practice, you will not want to augment your images as much. Small augmentation will produce a more accurate model than heavy augmentation, like the one in this tutorial."
      ]
    }
  ]
}